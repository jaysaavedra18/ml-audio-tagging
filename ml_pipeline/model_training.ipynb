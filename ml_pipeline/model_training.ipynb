{
 "cells": [
  {
   "cell_type": "markdown",
   "metadata": {},
   "source": [
    "# [FMA: A Dataset For Music Analysis](https://github.com/mdeff/fma)\n",
    "\n",
    "Michaël Defferrard, Kirell Benzi, Pierre Vandergheynst, Xavier Bresson, EPFL LTS2.\n",
    "\n",
    "## Setup: Import Packages and FMA Data"
   ]
  },
  {
   "cell_type": "code",
   "execution_count": 1,
   "metadata": {},
   "outputs": [],
   "source": [
    "%matplotlib inline\n",
    "\n",
    "import os\n",
    "from pathlib import Path\n",
    "\n",
    "import IPython.display as ipd\n",
    "import matplotlib.pyplot as plt\n",
    "import numpy as np\n",
    "\n",
    "import utils.fma_extraction as fma_utils\n",
    "import utils.ml_training as ml_utils\n",
    "\n",
    "plt.rcParams[\"figure.figsize\"] = (17, 5)"
   ]
  },
  {
   "cell_type": "code",
   "execution_count": null,
   "metadata": {},
   "outputs": [],
   "source": [
    "# Directory where mp3 are stored.\n",
    "FMA_METADATA_DIRECTORY = os.getenv(\"FMA_METADATA_DIRECTORY\")\n",
    "FMA_AUDIO_DIRECTORY = os.getenv(\"FMA_AUDIO_DIRECTORY\")\n",
    "\n",
    "# Load metadata and features.\n",
    "tracks = fma_utils.load(Path(FMA_METADATA_DIRECTORY) / \"tracks.csv\")\n",
    "genres = fma_utils.load(Path(FMA_METADATA_DIRECTORY) / \"genres.csv\")\n",
    "features = fma_utils.load(Path(FMA_METADATA_DIRECTORY) / \"features.csv\")\n",
    "echonest = fma_utils.load(Path(FMA_METADATA_DIRECTORY) / \"echonest.csv\")\n",
    "\n",
    "np.testing.assert_array_equal(features.index, tracks.index)\n",
    "assert echonest.index.isin(tracks.index).all()  # noqa: S101\n",
    "\n",
    "# Merge features with echonest.\n",
    "features = features.merge(echonest, left_index=True, right_index=True, how=\"left\")\n",
    "print(\"Features columns:\", features.columns.to_list())\n",
    "\n",
    "tracks.shape, genres.shape, features.shape, echonest.shape"
   ]
  },
  {
   "cell_type": "markdown",
   "metadata": {},
   "source": [
    "## Echonest features"
   ]
  },
  {
   "cell_type": "code",
   "execution_count": null,
   "metadata": {},
   "outputs": [],
   "source": [
    "# Add all features under ('echonest', 'audio_features')\n",
    "echonest_features = [\n",
    "    col for col in features.columns\n",
    "    if col[:2] == (\"echonest\", \"audio_features\")\n",
    "        or col[:2] == (\"echonest\", \"temporal_features\")\n",
    "]\n",
    "print(echonest_features)"
   ]
  },
  {
   "cell_type": "code",
   "execution_count": null,
   "metadata": {},
   "outputs": [],
   "source": [
    "print(\"{1} features for {0} tracks\".format(*echonest.shape))\n",
    "ipd.display(echonest[\"echonest\", \"audio_features\"].head())\n",
    "print(\"Audio features include\", echonest[\"echonest\", \"audio_features\"].columns)"
   ]
  },
  {
   "cell_type": "code",
   "execution_count": null,
   "metadata": {},
   "outputs": [],
   "source": [
    "ipd.display(echonest[\"echonest\", \"temporal_features\"].head())\n",
    "x = echonest.loc[2, (\"echonest\", \"temporal_features\")]\n",
    "plt.plot(x)"
   ]
  },
  {
   "cell_type": "markdown",
   "metadata": {},
   "source": [
    "## Classification by Features"
   ]
  },
  {
   "cell_type": "code",
   "execution_count": null,
   "metadata": {},
   "outputs": [],
   "source": [
    "# Prepare dataset splits and destrucure into training, testing, and validation sets\n",
    "X_train, X_test, X_val, y_train, y_test, y_val = ml_utils.prepare_dataset_splits(tracks=tracks, features=features, subset=\"medium\")\n",
    "\n",
    "# Check the shapes of the feature arrays\n",
    "print(X_train.shape)\n",
    "print(X_test.shape)\n",
    "print(X_val.shape)\n",
    "\n",
    "print(f\"{y_train.size} training examples, {y_test.size} testing examples\")\n",
    "print(f\"{X_train.shape[1]} features, {np.unique(y_train).size} classes\")"
   ]
  },
  {
   "cell_type": "code",
   "execution_count": null,
   "metadata": {},
   "outputs": [],
   "source": [
    "# Specify feature reduction and classifier\n",
    "reduce_features = False\n",
    "model_classifer = \"SVM\"\n",
    "\n",
    "# Preprocess data, removing features if specified\n",
    "X_train, X_test, y_train_encoded, y_test_encoded = ml_utils.preprocess_data(\n",
    "    X_train=X_train,\n",
    "    X_test=X_test,\n",
    "    y_train=y_train,\n",
    "    y_test=y_test,\n",
    "    reduce_features=reduce_features)\n",
    "\n",
    "# Train, evaluate, and retrieve the specified model\n",
    "clf, score = ml_utils.train_and_evaluate(\n",
    "    X_train=X_train,\n",
    "    y_train_encoded=y_train_encoded,\n",
    "    X_test=X_test,\n",
    "    y_test_encoded=y_test_encoded,\n",
    "    model_classifier=model_classifer,\n",
    ")\n",
    "\n"
   ]
  }
 ],
 "metadata": {
  "kernelspec": {
   "display_name": "venv",
   "language": "python",
   "name": "python3"
  },
  "language_info": {
   "codemirror_mode": {
    "name": "ipython",
    "version": 3
   },
   "file_extension": ".py",
   "mimetype": "text/x-python",
   "name": "python",
   "nbconvert_exporter": "python",
   "pygments_lexer": "ipython3",
   "version": "3.11.4"
  }
 },
 "nbformat": 4,
 "nbformat_minor": 2
}
